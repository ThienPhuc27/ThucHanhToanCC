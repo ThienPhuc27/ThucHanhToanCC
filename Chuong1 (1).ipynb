{
  "nbformat": 4,
  "nbformat_minor": 0,
  "metadata": {
    "colab": {
      "name": "Chuong1.ipynb",
      "provenance": [],
      "collapsed_sections": []
    },
    "kernelspec": {
      "name": "python3",
      "display_name": "Python 3"
    },
    "language_info": {
      "name": "python"
    }
  },
  "cells": [
    {
      "cell_type": "code",
      "execution_count": null,
      "metadata": {
        "colab": {
          "base_uri": "https://localhost:8080/"
        },
        "id": "MYrPTVe_pzs7",
        "outputId": "5143d6af-e23e-45a7-9c9c-87ec31050c14"
      },
      "outputs": [
        {
          "output_type": "stream",
          "name": "stdout",
          "text": [
            "Hello\n"
          ]
        }
      ],
      "source": [
        "print(\"Hello\")"
      ]
    },
    {
      "cell_type": "code",
      "source": [
        "from sympy import Symbol , sin, S\n",
        "Limit(x*sin(1/x),x,S.Infinity)"
      ],
      "metadata": {
        "colab": {
          "base_uri": "https://localhost:8080/",
          "height": 57
        },
        "id": "dIfrxsNoDQEy",
        "outputId": "0f93424d-44be-4d03-bb5f-92c10098bda7"
      },
      "execution_count": null,
      "outputs": [
        {
          "output_type": "execute_result",
          "data": {
            "text/latex": "$\\displaystyle \\lim_{x \\to \\infty}\\left(x \\sin{\\left(\\frac{1}{x} \\right)}\\right)$",
            "text/plain": [
              "Limit(x*sin(1/x), x, oo, dir='-')"
            ]
          },
          "metadata": {},
          "execution_count": 4
        }
      ]
    },
    {
      "cell_type": "markdown",
      "source": [
        "THUC HANH 11"
      ],
      "metadata": {
        "id": "33Ed7dkBDxZZ"
      }
    },
    {
      "cell_type": "code",
      "source": [
        "from sympy import *\n",
        "x = Symbol('x')\n",
        "y = Symbol('y')\n",
        "x+y+x-y"
      ],
      "metadata": {
        "colab": {
          "base_uri": "https://localhost:8080/",
          "height": 38
        },
        "id": "Du7Xf5Ez5HxH",
        "outputId": "b4ce0707-c6a0-4dbe-80aa-a91a38503725"
      },
      "execution_count": null,
      "outputs": [
        {
          "output_type": "execute_result",
          "data": {
            "text/latex": "$\\displaystyle 2 x$",
            "text/plain": [
              "2*x"
            ]
          },
          "metadata": {},
          "execution_count": 2
        }
      ]
    },
    {
      "cell_type": "markdown",
      "source": [
        "THUC HANH 4"
      ],
      "metadata": {
        "id": "sOV9mcbd5h_W"
      }
    },
    {
      "cell_type": "code",
      "source": [
        "N=3\n",
        "dayS=[1/2**k for k in range(0,N)]\n",
        "len(dayS)"
      ],
      "metadata": {
        "colab": {
          "base_uri": "https://localhost:8080/"
        },
        "id": "R4DxjTAo0LQk",
        "outputId": "742e31e5-81ac-44f6-afc5-733cd4b701a0"
      },
      "execution_count": null,
      "outputs": [
        {
          "output_type": "execute_result",
          "data": {
            "text/plain": [
              "3"
            ]
          },
          "metadata": {},
          "execution_count": 16
        }
      ]
    },
    {
      "cell_type": "code",
      "source": [
        "sum(dayS)"
      ],
      "metadata": {
        "colab": {
          "base_uri": "https://localhost:8080/"
        },
        "id": "lDbz_mrJ0r11",
        "outputId": "f22d0ee6-f16b-489f-9f7b-d294af7f6593"
      },
      "execution_count": null,
      "outputs": [
        {
          "output_type": "execute_result",
          "data": {
            "text/plain": [
              "1.75"
            ]
          },
          "metadata": {},
          "execution_count": 17
        }
      ]
    },
    {
      "cell_type": "code",
      "source": [
        "n=1000\n",
        "X=[2*k/n for k in range(0,n+1)]\n",
        "s=0\n",
        "for k in range(1,n+1):\n",
        "  s=s+X[k]**2*(X[k]-X[k-1])"
      ],
      "metadata": {
        "id": "m-g3Yt6c0vEB"
      },
      "execution_count": null,
      "outputs": []
    },
    {
      "cell_type": "markdown",
      "source": [
        "THUC HANH 2"
      ],
      "metadata": {
        "id": "1fJgnUP93uNO"
      }
    },
    {
      "cell_type": "code",
      "source": [
        "from sympy import Symbol, Limit\n",
        "t = Symbol('t')\n",
        "St = 5*t**2 + 2*t + 8 \n",
        "\n",
        "t1 = Symbol('t1')\n",
        "delta_t = Symbol('delta_t')\n",
        "\n",
        "St1 = St.subs({t: t1})\n",
        "St1_delta = St.subs({t:t1 + delta_t})\n",
        "\n",
        "Limit((St1_delta-St1)/delta_t,delta_t, 0).doit()"
      ],
      "metadata": {
        "id": "YvcYlOcRBnEk",
        "outputId": "d57986aa-06f6-4f1c-d8f6-359182efe14a",
        "colab": {
          "base_uri": "https://localhost:8080/",
          "height": 38
        }
      },
      "execution_count": null,
      "outputs": [
        {
          "output_type": "execute_result",
          "data": {
            "text/latex": "$\\displaystyle 10 t_{1} + 2$",
            "text/plain": [
              "10*t1 + 2"
            ]
          },
          "metadata": {},
          "execution_count": 3
        }
      ]
    },
    {
      "cell_type": "markdown",
      "source": [
        "THUC HANH 13"
      ],
      "metadata": {
        "id": "xML7wCMaBpaZ"
      }
    },
    {
      "cell_type": "code",
      "source": [
        "from sympy import Limit, Symbol\n",
        "x=Symbol('x')\n",
        "Limit(1/x,x,0,dir='-').doit()"
      ],
      "metadata": {
        "colab": {
          "base_uri": "https://localhost:8080/",
          "height": 37
        },
        "id": "OO9VQe0h1WLu",
        "outputId": "ab084f30-c1db-4057-ade3-3ce7802e4b1d"
      },
      "execution_count": null,
      "outputs": [
        {
          "output_type": "execute_result",
          "data": {
            "text/latex": "$\\displaystyle -\\infty$",
            "text/plain": [
              "-oo"
            ]
          },
          "metadata": {},
          "execution_count": 29
        }
      ]
    },
    {
      "cell_type": "code",
      "source": [
        "from sympy import Limit, Symbol\n",
        "x=Symbol('x')\n",
        "Limit(1/x,x,0,dir='+').doit()"
      ],
      "metadata": {
        "colab": {
          "base_uri": "https://localhost:8080/",
          "height": 37
        },
        "id": "XsNMYdtm2COu",
        "outputId": "0df1e199-f93f-4b75-cff7-f879b5f2210e"
      },
      "execution_count": null,
      "outputs": [
        {
          "output_type": "execute_result",
          "data": {
            "text/latex": "$\\displaystyle \\infty$",
            "text/plain": [
              "oo"
            ]
          },
          "metadata": {},
          "execution_count": 30
        }
      ]
    },
    {
      "cell_type": "code",
      "source": [
        "from sympy import Limit,sin\n",
        "Limit(sin(x)/x,x,0).doit()"
      ],
      "metadata": {
        "id": "Yp4aAH4U2zUn",
        "outputId": "75e53b6a-23eb-40f6-b7bb-7984171eb068",
        "colab": {
          "base_uri": "https://localhost:8080/",
          "height": 37
        }
      },
      "execution_count": null,
      "outputs": [
        {
          "output_type": "execute_result",
          "data": {
            "text/latex": "$\\displaystyle 1$",
            "text/plain": [
              "1"
            ]
          },
          "metadata": {},
          "execution_count": 31
        }
      ]
    },
    {
      "cell_type": "code",
      "source": [
        "blocks = 10000\n",
        "dayS=[1/2**n for n in range(0,blocks)]\n",
        "tongS=sum(dayS)\n",
        "print (tongS)"
      ],
      "metadata": {
        "id": "RLXiZLmv3WTl",
        "outputId": "dc44f3c3-ab68-4802-e849-6c48e00eb3f3",
        "colab": {
          "base_uri": "https://localhost:8080/"
        }
      },
      "execution_count": null,
      "outputs": [
        {
          "output_type": "stream",
          "name": "stdout",
          "text": [
            "2.0\n"
          ]
        }
      ]
    },
    {
      "cell_type": "markdown",
      "source": [
        "THUC HANH 1"
      ],
      "metadata": {
        "id": "n2CVSITs3zEV"
      }
    },
    {
      "cell_type": "code",
      "source": [
        "from sympy import *\n",
        "a = Rational(1,2)\n",
        "a"
      ],
      "metadata": {
        "id": "OUbVWA9-33pe",
        "outputId": "a1ecdaf7-20ca-496e-a717-8169938b5d37",
        "colab": {
          "base_uri": "https://localhost:8080/",
          "height": 51
        }
      },
      "execution_count": null,
      "outputs": [
        {
          "output_type": "execute_result",
          "data": {
            "text/latex": "$\\displaystyle \\frac{1}{2}$",
            "text/plain": [
              "1/2"
            ]
          },
          "metadata": {},
          "execution_count": 42
        }
      ]
    },
    {
      "cell_type": "markdown",
      "source": [
        "THUC HANH 3"
      ],
      "metadata": {
        "id": "fRFpcs6E4uMt"
      }
    },
    {
      "cell_type": "code",
      "source": [
        "from sympy import *\n",
        "a = Rational(1,2)\n",
        "Rational(1,2)+Rational(1,3)"
      ],
      "metadata": {
        "id": "4nYBja164rXX"
      },
      "execution_count": null,
      "outputs": []
    },
    {
      "cell_type": "markdown",
      "source": [
        "THUC HANH 3"
      ],
      "metadata": {
        "id": "sin5hvf24zIt"
      }
    },
    {
      "cell_type": "code",
      "source": [
        "from sympy import *\n",
        "a = Rational(1,2)\n",
        "Rational(1,2)+1"
      ],
      "metadata": {
        "id": "2lofDgfq40_t"
      },
      "execution_count": null,
      "outputs": []
    },
    {
      "cell_type": "markdown",
      "source": [
        "THUC HANH 3"
      ],
      "metadata": {
        "id": "Bc__USjI43D9"
      }
    },
    {
      "cell_type": "code",
      "source": [
        "from sympy import *\n",
        "a = Rational(1,2)\n",
        "Rational(1,3)+1+1,5"
      ],
      "metadata": {
        "id": "G-40taaz44rV"
      },
      "execution_count": null,
      "outputs": []
    },
    {
      "cell_type": "markdown",
      "source": [
        "THUC HANH 3"
      ],
      "metadata": {
        "id": "mZKaqMgd48Xu"
      }
    }
  ]
}